{
 "cells": [
  {
   "cell_type": "markdown",
   "metadata": {},
   "source": [
    "# Python\n",
    "Python es un lenguaje de programación de propósito general. En estas prácticas, utilizaremos Python 3.8 o superior. Python es un lenguaje interpretado como JavaScript, en oposición a Java o C, que necesitan ser compilados para ejecutarse; esto implica que algunos de los errores detectados durante la compilación del código fuente no serán advertidos y generarán excepciones durante la ejecución.\n",
    "\n",
    "En este cuaderno vamos a ver algunos ejemplos muy básicos de cómo utilizar Python y algunas de sus librerías, para tener una visión detallada del lenguaje, consulta https://docs.python.org/3/tutorial/\n",
    "\n",
    "## Variables y tipos\n",
    "Python es un lenguaje fuertemente tipado. Python tiene 4 tipos básicos: número entero `int`, número decimal `float`, lógico `bool` y cadenas de texto `str`. Aunque, cuando definimos una variable, no tenemos que especificar el tipo."
   ]
  },
  {
   "cell_type": "code",
   "metadata": {},
   "source": [
    "# Esto es un comentario\n",
    "# Los comentarios comienzan con el carácter #\n",
    "\n",
    "# Este cuadro es una celda que se puede ejecutar individualmente.\n",
    "# Para ejecutar una celda pulse Ctrl+Intro o pulse el botón ejecutar del menú herramientas\n",
    "\n",
    "print(\"Hola Mundo!\")"
   ],
   "outputs": [],
   "execution_count": null
  },
  {
   "cell_type": "code",
   "metadata": {},
   "source": [
    "# Un número entero, int\n",
    "myInt = 10\n",
    "\n",
    "# un número decimal, float\n",
    "myFloat = 3.14\n",
    "\n",
    "# Un valor lógico, bool\n",
    "myBool = True\n",
    "\n",
    "# Una cadena de texto, str. Se pueden utilizar comillas simples ' o comillas dobles \"\n",
    "myStr = \"example1\"\n",
    "myStr2 = 'example2'\n"
   ],
   "outputs": [],
   "execution_count": null
  },
  {
   "cell_type": "markdown",
   "metadata": {},
   "source": "Para escribir en la salida estándar, es decir, para imprimir algo, utilizaremos la función `print()`."
  },
  {
   "cell_type": "code",
   "metadata": {},
   "source": [
    "print(myInt)\n",
    "print(myFloat)\n",
    "print(myBool)\n",
    "print(myStr)\n",
    "print(myStr2)\n",
    "\n",
    "# Como Python es fuertemente tipado las variables no cambiarán su tipo automáticamente, así que, por ejemplo, si queremos concatenar\n",
    "# un int con un str, tenemos que convertir el int en un str primero\n",
    "print(myStr + \" \" + str(myInt))"
   ],
   "outputs": [],
   "execution_count": null
  },
  {
   "cell_type": "markdown",
   "metadata": {},
   "source": [
    "## Basic operations"
   ]
  },
  {
   "cell_type": "code",
   "metadata": {},
   "source": [
    "# Suma\n",
    "print(3 + 5)\n",
    "\n",
    "# Resta\n",
    "print(3 - 5)\n",
    "\n",
    "# Multiplicación\n",
    "print(3 * 5)\n",
    "\n",
    "# División\n",
    "print(3 / 5)\n",
    "\n",
    "# Potencia\n",
    "print(3 ** 5)"
   ],
   "outputs": [],
   "execution_count": null
  },
  {
   "cell_type": "markdown",
   "metadata": {},
   "source": [
    "## Lists"
   ]
  },
  {
   "cell_type": "code",
   "metadata": {},
   "source": [
    "myList = [1, 2, 3, True, \"APSV\"]\n",
    "\n",
    "# Acceder a un elemento en determinada posición\n",
    "print(myList[0])\n",
    "\n",
    "# Podemos acceder a los elementos del final utilizando un índice negativo. -1 es el último valor, -2 el anterior, etc.\n",
    "print(myList[-1])\n",
    "\n",
    "# Podemos obtener una sublista usando esta sintaxis miLista[inicio:fin]\n",
    "# Si no se especifica inicio se utilizará el principio de la lista, análogamente con fin y el final de la lista\n",
    "print(myList[0:2])\n",
    "print(myList[-3:-1])\n",
    "print(myList[:2])\n",
    "print(myList[2:])"
   ],
   "outputs": [],
   "execution_count": null
  },
  {
   "cell_type": "code",
   "metadata": {},
   "source": [
    "# Modificar un valor\n",
    "myList[0] = 4\n",
    "print(myList)\n",
    "\n",
    "# Añadir elementos al final de la lista\n",
    "myList.append(\"Exam\")\n",
    "print(myList)\n",
    "\n",
    "# Añadir elementos en una posición concreta\n",
    "myList.insert(1,23)\n",
    "print(myList)\n",
    "\n",
    "# Eliminar el último elemento\n",
    "lastElement = myList.pop()\n",
    "print(myList)\n",
    "\n",
    "# Eliminar un elemento concreto\n",
    "del(myList[1])\n",
    "print(myList)\n",
    "\n",
    "# Eliminar un elemento por su valor\n",
    "myList.remove(3)\n",
    "print(myList)\n",
    "\n",
    "# Obtener la longitud de cualquier collección\n",
    "print(len(myList))"
   ],
   "outputs": [],
   "execution_count": null
  },
  {
   "cell_type": "code",
   "metadata": {},
   "source": [
    "# Extra: Python tiene otro tipo de colecciones llamadas tuplas. La principal diferencia es que las tuplas son inmutables.\n",
    "# Se definen usando paréntesis en lugar de corchetes. Podemos acceder a los elementos de la misma forma que con las listas\n",
    "\n",
    "myTuple = (1, 2, 3, True, \"APSV\")\n",
    "\n",
    "print(\"First element: \" + str(myTuple[0]))"
   ],
   "outputs": [],
   "execution_count": null
  },
  {
   "cell_type": "markdown",
   "metadata": {},
   "source": [
    "## Diccionarios\n",
    "Los diccionarios son colecciones de pares clave-valor. Se puede acceder a estas colecciones como a una lista pero utilizando las claves en lugar de los índices.\n",
    "\n",
    "Los valores pueden tener diferentes tipos, incluso es común tener diccionarios dentro de diccionarios (ej. para trabajar con un json)."
   ]
  },
  {
   "cell_type": "code",
   "metadata": {},
   "source": [
    "# Los diccionarios se marcan con caracteres {}\n",
    "# La sintaxis para establecer un par clave-valor es «clave»: «valor»\n",
    "myDict = { \"key\": \"value\", \"APSV\": 23, \"arr\" : [1,2,3] }\n",
    "print(myDict)\n",
    "\n",
    "# Accesso por clave\n",
    "print(myDict[\"arr\"])"
   ],
   "outputs": [],
   "execution_count": null
  },
  {
   "cell_type": "markdown",
   "metadata": {},
   "source": "## Operaciones lógicas"
  },
  {
   "cell_type": "code",
   "metadata": {},
   "source": [
    "# AND\n",
    "print(myInt < 5 and myBool)\n",
    "\n",
    "# OR\n",
    "print(myInt > 5 or myBool)\n",
    "\n",
    "# Negación\n",
    "print(not myBool)\n",
    "\n",
    "# Comprobar si existe un elemento en una colleción\n",
    "print(4 in myList)"
   ],
   "outputs": [],
   "execution_count": null
  },
  {
   "cell_type": "markdown",
   "metadata": {},
   "source": [
    "## Control de ejecución\n",
    "En Python, los bloques de código se definen por su nivel de sangría en oposición a otros lenguajes que rodean los bloques con `{}`."
   ]
  },
  {
   "cell_type": "code",
   "metadata": {},
   "source": [
    "# Condicional\n",
    "if myInt > 5:\n",
    "    print(\"myInt is greater than 5\")"
   ],
   "outputs": [],
   "execution_count": null
  },
  {
   "cell_type": "code",
   "metadata": {},
   "source": [
    "# Condicional con acción opuesta\n",
    "if myInt < 5:\n",
    "    print(\"myInt is less than 5\")\n",
    "else:\n",
    "    print(\"myInt is greater than 5\")"
   ],
   "outputs": [],
   "execution_count": null
  },
  {
   "cell_type": "code",
   "metadata": {},
   "source": [
    "# Condicionales anidados\n",
    "if myInt < 5:\n",
    "    print(\"myInt is less than 5\")\n",
    "elif myInt < 15:\n",
    "    print(\"myInt is less than 15\")\n",
    "else:\n",
    "    print(\"myInt is greater than 15\")"
   ],
   "outputs": [],
   "execution_count": null
  },
  {
   "cell_type": "code",
   "metadata": {},
   "source": [
    "# Bucle for para iterar sobre los elementos de una lista\n",
    "for i in myList:\n",
    "    print(i)"
   ],
   "outputs": [],
   "execution_count": null
  },
  {
   "cell_type": "code",
   "metadata": {},
   "source": [
    "# Bucle for para iterar sobre los valores dentro de un rango\n",
    "for i in range(len(myList)):\n",
    "    print(str(i) + \" - \" + str(myList[i]))"
   ],
   "outputs": [],
   "execution_count": null
  },
  {
   "cell_type": "code",
   "metadata": {},
   "source": [
    "# Bucle while\n",
    "a = 0\n",
    "while a < 10:\n",
    "    print(a)\n",
    "    a += 1"
   ],
   "outputs": [],
   "execution_count": null
  },
  {
   "cell_type": "code",
   "metadata": {},
   "source": [
    "# Sentencias break y continue\n",
    "a = 0\n",
    "while True:\n",
    "    a += 1\n",
    "    if a > 10:\n",
    "        break\n",
    "    if a % 2 == 0:\n",
    "        continue\n",
    "    print(a, \"is odd\")"
   ],
   "outputs": [],
   "execution_count": null
  },
  {
   "cell_type": "markdown",
   "metadata": {},
   "source": [
    "# Métodos/Funciones\n",
    "Para definir un método o función en python utilizaremos la siguiente sintaxis `def methodName(arg1, arg2 = «default value», arg3)`."
   ]
  },
  {
   "cell_type": "code",
   "metadata": {},
   "source": [
    "def sumValues(a, b=1):\n",
    "    return a + b\n",
    "\n",
    "print(sumValues(2,3))\n",
    "print(sumValues(2))"
   ],
   "outputs": [],
   "execution_count": null
  },
  {
   "metadata": {},
   "cell_type": "markdown",
   "source": [
    "## Manejo de dependencias externas\n",
    "Habitualmente en los proyectos de programación se incluyen dependencias externas. Python no es una excepción y estas dependencias deben instalarse y ser accesibles por el entorno de ejecución para poder utlizarlas.\n"
   ]
  },
  {
   "metadata": {},
   "cell_type": "markdown",
   "source": [
    "### Instalación de dependencias externas\n",
    "La instalación de dependencias externas en Python se realiza utilzando el comando `pip`. Este comando se instala habitualmente junto con Python y se puede ejecutar en cualquier terminal.\n",
    "\n",
    "El uso de este comadno es muy sencillo unicamente es necesario conocer el nombre de la dependencia externa que se desea instalar.\n",
    "```\n",
    "pip install jupyter\n",
    "``` \n",
    "\n",
    "Si se quieren instalar varias dependencias de forma simultanea se puede usar el comando anterior separando con espacios los nombres de las diferencias dependencias.\n",
    "```\n",
    "pip install jupyter pandas\n",
    "``` \n",
    "\n",
    "Una forma alternativa de realizar la instalación cuando hay un número importante de instalaciones que realizar es utilizar un documento donde se escriben los nombres de las diferentes dependecias. El nombre comunmente utilzado para este documento es `requirements.txt`, como el que está ya creado en este repositorio. Para realizar la instalación con a partir de este documento el comando es el siguiente:\n",
    "```\n",
    "pip install -r requirements.txt\n",
    "```\n",
    "\n"
   ]
  },
  {
   "metadata": {},
   "cell_type": "markdown",
   "source": [
    "### Entornos virtuales\n",
    "Aunque se pueden realizar las instalaciones de forma global esto puede llevar a llenar el equipo de trabajo de dependencias que no se usan y que no se necesitan. Se recomienda utilizar un entorno virtual en cada uno de los distintos proyectos de programación. Para crear un entorno virtual de Python se pueden utilzar los siguientes comandos:\n",
    "```\n",
    "python -m venv venv\n",
    "```\n",
    "\n",
    "Una vez se ha creado el entorno virtual es necesario activarlo tras lo cual cualquier instalación de dependencias externas que se haga se hará unicamente en el entorno virtual y no de forma global. Para activar el entorno virtual utilice:\n",
    "```\n",
    "# Windows\n",
    "venv\\Scripts\\activate\n",
    "\n",
    "# Linux\n",
    "source venv/bin/activate\n",
    "```\n",
    "\n",
    "Para desactivar el entorno virtual utilice el siguiente comando:\n",
    "```\n",
    "deactivate\n",
    "```"
   ]
  },
  {
   "cell_type": "markdown",
   "metadata": {},
   "source": [
    "## Importar módulos\n",
    "En Python las dependencias externas suelen llamarse módulos, para importarlos usaremos `import moduleName`.\n",
    "\n",
    "Si estás interesado en conocer más sobre Python o y módulos adicionales puede que necesites instalarlos, para ello Python tiene un comando llamado `pip` para instalar librerías externas (similar a `npm` en Javascript)."
   ]
  },
  {
   "cell_type": "code",
   "metadata": {
    "scrolled": true
   },
   "source": [
    "import math\n",
    "print(math.sqrt(2))\n",
    "import random\n",
    "print(random.random())"
   ],
   "outputs": [],
   "execution_count": null
  },
  {
   "cell_type": "markdown",
   "metadata": {},
   "source": [
    "## Errores\n",
    "Hasta ahora, todo el código que hemos ejecutado se ha ejecutado correctamente, pero cuando hacemos cosas más complejas, podemos obtener errores de ejecución. Ahora vamos a ejecutar código con errores para ver qué tipo de errores podemos encontrar y cómo se ven"
   ]
  },
  {
   "cell_type": "code",
   "metadata": {},
   "source": [
    "# Name error\n",
    "# Este error normalmente está causado por fallos en la sintaxis\n",
    "print(var33)"
   ],
   "outputs": [],
   "execution_count": null
  },
  {
   "cell_type": "code",
   "metadata": {
    "scrolled": true
   },
   "source": [
    "# Syntax error\n",
    "# Normalemente relacionado con operaciones no validas entre variables de distintos tipos\n",
    "print(\"hello \" + 3)"
   ],
   "outputs": [],
   "execution_count": null
  },
  {
   "cell_type": "code",
   "metadata": {},
   "source": [
    "# ZeroDivisionError\n",
    "print(1 / 0)"
   ],
   "outputs": [],
   "execution_count": null
  },
  {
   "cell_type": "code",
   "metadata": {},
   "source": [
    "# IndexError\n",
    "# \n",
    "# Esto ocurre cuando intentamos acceder a un índice fuera de límites o a un índice indefinido\n",
    "a = [1, 2]\n",
    "print(a[4])"
   ],
   "outputs": [],
   "execution_count": null
  },
  {
   "cell_type": "markdown",
   "metadata": {},
   "source": [
    "## Problemas\n",
    "### Problema 1\n",
    "Diseña un método para calcular la distancia coseno entre dos listas de floats ``a`` y ``b``. La distancia coseno o similitud coseno es una medida del ángulo entre dos vectores https://en.wikipedia.org/wiki/Cosine_similarity.x\n",
    "\n",
    "$D =1-\\cos(\\theta) = 1-{\\mathbf{A} \\cdot \\mathbf{B} \\over \\|\\mathbf{A}\\| \\|\\mathbf{B}\\|} = 1-\\frac{ \\sum\\limits_{i=1}^{n}{A_i  B_i} }{ \\sqrt{\\sum\\limits_{i=1}^{n}{A_i^2}}  \\sqrt{\\sum\\limits_{i=1}^{n}{B_i^2}} } $\n",
    "\n",
    "Para comprobar su solución puede utilizar las siguientes pruebas:\n",
    " - ``cosine_distance([1, 0, -1], [1, 0, -1]) == 0.0``\n",
    " - ``cosine_distance([1, 0, -1], [-1, 0, 1]) == 2.0``\n",
    " - ``cosine_distance([1, 0, -1], [0, 1, 0]) == 1.0``\n",
    " - ``cosine_distance([1, 2, 3], [3, 2, 1]) == 0.2857``"
   ]
  },
  {
   "cell_type": "code",
   "metadata": {},
   "source": [
    "# Utiliza esta celda para escribir tu propio código de la función\n",
    "def cos_distance( a, b ):\n",
    "    return"
   ],
   "outputs": [],
   "execution_count": null
  },
  {
   "cell_type": "code",
   "metadata": {},
   "source": [
    "# Pruebas\n",
    "print(cos_distance([1,2,3], [3,2,1]))\n",
    "print( \"Obtained: \",cos_distance([1,0,-1], [ 1,0,-1]), \", Expected: \", 0)\n",
    "print( \"Obtained: \",cos_distance([1,0,-1], [-1,0, 1]), \", Expected: \", 2)\n",
    "print( \"Obtained: \",cos_distance([1,0,-1], [ 0,1, 0]), \", Expected: \", 1)\n"
   ],
   "outputs": [],
   "execution_count": null
  },
  {
   "cell_type": "markdown",
   "metadata": {},
   "source": [
    "### Problema 2\n",
    "Diseñar un método que dada una lista de listas (una matriz) de números, devuelva la posición del valor máximo en una tupla. Por ejemplo, dada la siguiente matriz:\n",
    "\n",
    "```\n",
    "matrix = [\n",
    "    [7, 5, 3],\n",
    "    [2, 4, 9],\n",
    "    [1, 6, 8]\n",
    "]\n",
    "```\n",
    "\n",
    "El método debe devolver la tupla ``(1, 2)``."
   ]
  },
  {
   "cell_type": "code",
   "metadata": {},
   "source": [
    "# Utiliza esta celda para escribir tu propio código de la función\n",
    "def get_maximum_position( matrix ):\n",
    "    return"
   ],
   "outputs": [],
   "execution_count": null
  },
  {
   "cell_type": "code",
   "metadata": {},
   "source": [
    "# Pruebas\n",
    "matrix = [[7, 5, 3], [2, 4, 9], [1, 6, 8]]\n",
    "print(get_maximum_position(matrix)) # Debe imprimir (1,2)\n",
    "\n",
    "matrix = [[1,2,3],[4,5,6],[7,8,9]]\n",
    "print(get_maximum_position(matrix)) # Debe imprimir (2,2)"
   ],
   "outputs": [],
   "execution_count": null
  },
  {
   "metadata": {},
   "cell_type": "markdown",
   "source": "# FINAL"
  },
  {
   "metadata": {},
   "cell_type": "code",
   "source": "",
   "outputs": [],
   "execution_count": null
  }
 ],
 "metadata": {
  "celltoolbar": "Raw Cell Format",
  "kernelspec": {
   "display_name": "Python 3.9.7 64-bit",
   "language": "python",
   "name": "python3"
  },
  "language_info": {
   "codemirror_mode": {
    "name": "ipython",
    "version": 3
   },
   "file_extension": ".py",
   "mimetype": "text/x-python",
   "name": "python",
   "nbconvert_exporter": "python",
   "pygments_lexer": "ipython3",
   "version": "3.10.6"
  },
  "vscode": {
   "interpreter": {
    "hash": "c0de1fe606f85d3f2aa9a903f2b0bf89b43d937b91ee737bd06cf0188ff610aa"
   }
  }
 },
 "nbformat": 4,
 "nbformat_minor": 2
}
