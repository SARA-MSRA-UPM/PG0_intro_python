{
 "cells": [
  {
   "cell_type": "markdown",
   "metadata": {},
   "source": [
    "# Python\n",
    "Python es un lenguaje de programación de propósito general. En estas prácticas, utilizaremos Python 3.8 o superior. Python es un lenguaje interpretado como JavaScript, en oposición a Java o C, que necesitan ser compilados para ejecutarse; esto implica que algunos de los errores detectados durante la compilación del código fuente no serán advertidos y generarán excepciones durante la ejecución.\n",
    "\n",
    "En este cuaderno vamos a ver algunos ejemplos muy básicos de cómo utilizar Python y algunas de sus librerías, para tener una visión detallada del lenguaje, consulta https://docs.python.org/3/tutorial/\n",
    "\n",
    "## Variables y tipos\n",
    "Python es un lenguaje fuertemente tipado. Python tiene 4 tipos básicos: número entero `int`, número decimal `float`, lógico `bool` y cadenas de texto `str`. Aunque, cuando definimos una variable, no tenemos que especificar el tipo."
   ]
  },
  {
   "cell_type": "code",
   "metadata": {
    "ExecuteTime": {
     "end_time": "2024-08-25T12:36:11.229893Z",
     "start_time": "2024-08-25T12:36:11.226347Z"
    }
   },
   "source": [
    "# Esto es un comentario\n",
    "# Los comentarios comienzan con el carácter #\n",
    "\n",
    "# Este cuadro es una celda que se puede ejecutar individualmente.\n",
    "# Para ejecutar una celda pulse Ctrl+Intro o pulse el botón ejecutar del menú herramientas\n",
    "\n",
    "print(\"Hola Mundo!\")"
   ],
   "outputs": [
    {
     "name": "stdout",
     "output_type": "stream",
     "text": [
      "Hola Mundo!\n"
     ]
    }
   ],
   "execution_count": 2
  },
  {
   "cell_type": "code",
   "metadata": {
    "ExecuteTime": {
     "end_time": "2024-08-25T12:36:11.347742Z",
     "start_time": "2024-08-25T12:36:11.345428Z"
    }
   },
   "source": [
    "# Un número entero, int\n",
    "myInt = 10\n",
    "\n",
    "# un número decimal, float\n",
    "myFloat = 3.14\n",
    "\n",
    "# Un valor lógico, bool\n",
    "myBool = True\n",
    "\n",
    "# Una cadena de texto, str. Se pueden utilizar comillas simples ' o comillas dobles \"\n",
    "myStr = \"example1\"\n",
    "myStr2 = 'example2'\n"
   ],
   "outputs": [],
   "execution_count": 3
  },
  {
   "cell_type": "markdown",
   "metadata": {},
   "source": "Para escribir en la salida estándar, es decir, para imprimir algo, utilizaremos la función `print()`."
  },
  {
   "cell_type": "code",
   "metadata": {
    "ExecuteTime": {
     "end_time": "2024-08-25T12:36:11.396445Z",
     "start_time": "2024-08-25T12:36:11.393433Z"
    }
   },
   "source": [
    "print(myInt)\n",
    "print(myFloat)\n",
    "print(myBool)\n",
    "print(myStr)\n",
    "print(myStr2)\n",
    "\n",
    "# Como Python es fuertemente tipado las variables no cambiarán su tipo automáticamente, así que, por ejemplo, si queremos concatenar\n",
    "# un int con un str, tenemos que convertir el int en un str primero\n",
    "print(myStr + \" \" + str(myInt))"
   ],
   "outputs": [
    {
     "name": "stdout",
     "output_type": "stream",
     "text": [
      "10\n",
      "3.14\n",
      "True\n",
      "example1\n",
      "example2\n",
      "example1 10\n"
     ]
    }
   ],
   "execution_count": 4
  },
  {
   "cell_type": "markdown",
   "metadata": {},
   "source": [
    "## Basic operations"
   ]
  },
  {
   "cell_type": "code",
   "metadata": {
    "ExecuteTime": {
     "end_time": "2024-08-25T12:36:11.445221Z",
     "start_time": "2024-08-25T12:36:11.442910Z"
    }
   },
   "source": [
    "# Suma\n",
    "print(3 + 5)\n",
    "\n",
    "# Resta\n",
    "print(3 - 5)\n",
    "\n",
    "# Multiplicación\n",
    "print(3 * 5)\n",
    "\n",
    "# División\n",
    "print(3 / 5)\n",
    "\n",
    "# Potencia\n",
    "print(3 ** 5)"
   ],
   "outputs": [
    {
     "name": "stdout",
     "output_type": "stream",
     "text": [
      "8\n",
      "-2\n",
      "15\n",
      "0.6\n",
      "243\n"
     ]
    }
   ],
   "execution_count": 5
  },
  {
   "cell_type": "markdown",
   "metadata": {},
   "source": [
    "## Lists"
   ]
  },
  {
   "cell_type": "code",
   "metadata": {
    "ExecuteTime": {
     "end_time": "2024-08-25T12:36:11.494550Z",
     "start_time": "2024-08-25T12:36:11.491633Z"
    }
   },
   "source": [
    "myList = [1, 2, 3, True, \"APSV\"]\n",
    "\n",
    "# Acceder a un elemento en determinada posición\n",
    "print(myList[0])\n",
    "\n",
    "# Podemos acceder a los elementos del final utilizando un índice negativo. -1 es el último valor, -2 el anterior, etc.\n",
    "print(myList[-1])\n",
    "\n",
    "# Podemos obtener una sublista usando esta sintaxis miLista[inicio:fin]\n",
    "# Si no se especifica inicio se utilizará el principio de la lista, análogamente con fin y el final de la lista\n",
    "print(myList[0:2])\n",
    "print(myList[-3:-1])\n",
    "print(myList[:2])\n",
    "print(myList[2:])"
   ],
   "outputs": [
    {
     "name": "stdout",
     "output_type": "stream",
     "text": [
      "1\n",
      "APSV\n",
      "[1, 2]\n",
      "[3, True]\n",
      "[1, 2]\n",
      "[3, True, 'APSV']\n"
     ]
    }
   ],
   "execution_count": 6
  },
  {
   "cell_type": "code",
   "metadata": {
    "ExecuteTime": {
     "end_time": "2024-08-25T12:36:11.544871Z",
     "start_time": "2024-08-25T12:36:11.541603Z"
    }
   },
   "source": [
    "# Modificar un valor\n",
    "myList[0] = 4\n",
    "print(myList)\n",
    "\n",
    "# Añadir elementos al final de la lista\n",
    "myList.append(\"Exam\")\n",
    "print(myList)\n",
    "\n",
    "# Añadir elementos en una posición concreta\n",
    "myList.insert(1,23)\n",
    "print(myList)\n",
    "\n",
    "# Eliminar el último elemento\n",
    "lastElement = myList.pop()\n",
    "print(myList)\n",
    "\n",
    "# Eliminar un elemento concreto\n",
    "del(myList[1])\n",
    "print(myList)\n",
    "\n",
    "# Eliminar un elemento por su valor\n",
    "myList.remove(3)\n",
    "print(myList)\n",
    "\n",
    "# Obtener la longitud de cualquier collección\n",
    "print(len(myList))"
   ],
   "outputs": [
    {
     "name": "stdout",
     "output_type": "stream",
     "text": [
      "[4, 2, 3, True, 'APSV']\n",
      "[4, 2, 3, True, 'APSV', 'Exam']\n",
      "[4, 23, 2, 3, True, 'APSV', 'Exam']\n",
      "[4, 23, 2, 3, True, 'APSV']\n",
      "[4, 2, 3, True, 'APSV']\n",
      "[4, 2, True, 'APSV']\n",
      "4\n"
     ]
    }
   ],
   "execution_count": 7
  },
  {
   "cell_type": "code",
   "metadata": {
    "ExecuteTime": {
     "end_time": "2024-08-25T12:36:11.596197Z",
     "start_time": "2024-08-25T12:36:11.594014Z"
    }
   },
   "source": [
    "# Extra: Python tiene otro tipo de colecciones llamadas tuplas. La principal diferencia es que las tuplas son inmutables.\n",
    "# Se definen usando paréntesis en lugar de corchetes. Podemos acceder a los elementos de la misma forma que con las listas\n",
    "\n",
    "myTuple = (1, 2, 3, True, \"APSV\")\n",
    "\n",
    "print(\"First element: \" + str(myTuple[0]))"
   ],
   "outputs": [
    {
     "name": "stdout",
     "output_type": "stream",
     "text": [
      "First element: 1\n"
     ]
    }
   ],
   "execution_count": 8
  },
  {
   "cell_type": "markdown",
   "metadata": {},
   "source": [
    "## Diccionarios\n",
    "Los diccionarios son colecciones de pares clave-valor. Se puede acceder a estas colecciones como a una lista pero utilizando las claves en lugar de los índices.\n",
    "\n",
    "Los valores pueden tener diferentes tipos, incluso es común tener diccionarios dentro de diccionarios (ej. para trabajar con un json)."
   ]
  },
  {
   "cell_type": "code",
   "metadata": {
    "ExecuteTime": {
     "end_time": "2024-08-25T12:36:11.648086Z",
     "start_time": "2024-08-25T12:36:11.645415Z"
    }
   },
   "source": [
    "# Los diccionarios se marcan con caracteres {}\n",
    "# La sintaxis para establecer un par clave-valor es «clave»: «valor»\n",
    "myDict = { \"key\": \"value\", \"APSV\": 23, \"arr\" : [1,2,3] }\n",
    "print(myDict)\n",
    "\n",
    "# Accesso por clave\n",
    "print(myDict[\"arr\"])"
   ],
   "outputs": [
    {
     "name": "stdout",
     "output_type": "stream",
     "text": [
      "{'key': 'value', 'APSV': 23, 'arr': [1, 2, 3]}\n",
      "[1, 2, 3]\n"
     ]
    }
   ],
   "execution_count": 9
  },
  {
   "cell_type": "markdown",
   "metadata": {},
   "source": "## Operaciones lógicas"
  },
  {
   "cell_type": "code",
   "metadata": {
    "ExecuteTime": {
     "end_time": "2024-08-25T12:36:11.703028Z",
     "start_time": "2024-08-25T12:36:11.700742Z"
    }
   },
   "source": [
    "# AND\n",
    "print(myInt < 5 and myBool)\n",
    "\n",
    "# OR\n",
    "print(myInt > 5 or myBool)\n",
    "\n",
    "# Negación\n",
    "print(not myBool)\n",
    "\n",
    "# Comprobar si existe un elemento en una colleción\n",
    "print(4 in myList)"
   ],
   "outputs": [
    {
     "name": "stdout",
     "output_type": "stream",
     "text": [
      "False\n",
      "True\n",
      "False\n",
      "True\n"
     ]
    }
   ],
   "execution_count": 10
  },
  {
   "cell_type": "markdown",
   "metadata": {},
   "source": [
    "## Control de ejecución\n",
    "En Python, los bloques de código se definen por su nivel de sangría en oposición a otros lenguajes que rodean los bloques con `{}`."
   ]
  },
  {
   "cell_type": "code",
   "metadata": {
    "ExecuteTime": {
     "end_time": "2024-08-25T12:36:11.753512Z",
     "start_time": "2024-08-25T12:36:11.751249Z"
    }
   },
   "source": [
    "# Condicional\n",
    "if myInt > 5:\n",
    "    print(\"myInt is greater than 5\")"
   ],
   "outputs": [
    {
     "name": "stdout",
     "output_type": "stream",
     "text": [
      "myInt is greater than 5\n"
     ]
    }
   ],
   "execution_count": 11
  },
  {
   "cell_type": "code",
   "metadata": {
    "ExecuteTime": {
     "end_time": "2024-08-25T12:36:11.803546Z",
     "start_time": "2024-08-25T12:36:11.801126Z"
    }
   },
   "source": [
    "# Condicional con acción opuesta\n",
    "if myInt < 5:\n",
    "    print(\"myInt is less than 5\")\n",
    "else:\n",
    "    print(\"myInt is greater than 5\")"
   ],
   "outputs": [
    {
     "name": "stdout",
     "output_type": "stream",
     "text": [
      "myInt is greater than 5\n"
     ]
    }
   ],
   "execution_count": 12
  },
  {
   "cell_type": "code",
   "metadata": {
    "ExecuteTime": {
     "end_time": "2024-08-25T12:36:11.860533Z",
     "start_time": "2024-08-25T12:36:11.857920Z"
    }
   },
   "source": [
    "# Condicionales anidados\n",
    "if myInt < 5:\n",
    "    print(\"myInt is less than 5\")\n",
    "elif myInt < 15:\n",
    "    print(\"myInt is less than 15\")\n",
    "else:\n",
    "    print(\"myInt is greater than 15\")"
   ],
   "outputs": [
    {
     "name": "stdout",
     "output_type": "stream",
     "text": [
      "myInt is less than 15\n"
     ]
    }
   ],
   "execution_count": 13
  },
  {
   "cell_type": "code",
   "metadata": {
    "ExecuteTime": {
     "end_time": "2024-08-25T12:36:11.915552Z",
     "start_time": "2024-08-25T12:36:11.913728Z"
    }
   },
   "source": [
    "# Bucle for para iterar sobre los elementos de una lista\n",
    "for i in myList:\n",
    "    print(i)"
   ],
   "outputs": [
    {
     "name": "stdout",
     "output_type": "stream",
     "text": [
      "4\n",
      "2\n",
      "True\n",
      "APSV\n"
     ]
    }
   ],
   "execution_count": 14
  },
  {
   "cell_type": "code",
   "metadata": {
    "ExecuteTime": {
     "end_time": "2024-08-25T12:36:11.966887Z",
     "start_time": "2024-08-25T12:36:11.964336Z"
    }
   },
   "source": [
    "# Bucle for para iterar sobre los valores dentro de un rango\n",
    "for i in range(len(myList)):\n",
    "    print(str(i) + \" - \" + str(myList[i]))"
   ],
   "outputs": [
    {
     "name": "stdout",
     "output_type": "stream",
     "text": [
      "0 - 4\n",
      "1 - 2\n",
      "2 - True\n",
      "3 - APSV\n"
     ]
    }
   ],
   "execution_count": 15
  },
  {
   "cell_type": "code",
   "metadata": {
    "ExecuteTime": {
     "end_time": "2024-08-25T12:36:12.020785Z",
     "start_time": "2024-08-25T12:36:12.018895Z"
    }
   },
   "source": [
    "# Bucle while\n",
    "a = 0\n",
    "while a < 10:\n",
    "    print(a)\n",
    "    a += 1"
   ],
   "outputs": [
    {
     "name": "stdout",
     "output_type": "stream",
     "text": [
      "0\n",
      "1\n",
      "2\n",
      "3\n",
      "4\n",
      "5\n",
      "6\n",
      "7\n",
      "8\n",
      "9\n"
     ]
    }
   ],
   "execution_count": 16
  },
  {
   "cell_type": "code",
   "metadata": {
    "ExecuteTime": {
     "end_time": "2024-08-25T12:36:12.075993Z",
     "start_time": "2024-08-25T12:36:12.073733Z"
    }
   },
   "source": [
    "# Sentencias break y continue\n",
    "a = 0\n",
    "while True:\n",
    "    a += 1\n",
    "    if a > 10:\n",
    "        break\n",
    "    if a % 2 == 0:\n",
    "        continue\n",
    "    print(a, \"is odd\")"
   ],
   "outputs": [
    {
     "name": "stdout",
     "output_type": "stream",
     "text": [
      "1 is odd\n",
      "3 is odd\n",
      "5 is odd\n",
      "7 is odd\n",
      "9 is odd\n"
     ]
    }
   ],
   "execution_count": 17
  },
  {
   "cell_type": "markdown",
   "metadata": {},
   "source": [
    "# Métodos/Funciones\n",
    "Para definir un método o función en python utilizaremos la siguiente sintaxis `def methodName(arg1, arg2 = «default value», arg3)`."
   ]
  },
  {
   "cell_type": "code",
   "metadata": {
    "ExecuteTime": {
     "end_time": "2024-08-25T12:36:12.133719Z",
     "start_time": "2024-08-25T12:36:12.131445Z"
    }
   },
   "source": [
    "def sumValues(a, b=1):\n",
    "    return a + b\n",
    "\n",
    "print(sumValues(2,3))\n",
    "print(sumValues(2))"
   ],
   "outputs": [
    {
     "name": "stdout",
     "output_type": "stream",
     "text": [
      "5\n",
      "3\n"
     ]
    }
   ],
   "execution_count": 18
  },
  {
   "metadata": {},
   "cell_type": "markdown",
   "source": "## Manejo de dependencias externas"
  },
  {
   "metadata": {},
   "cell_type": "markdown",
   "source": "### Instalación de dependencias externas"
  },
  {
   "metadata": {},
   "cell_type": "markdown",
   "source": "### Entornos virtuales"
  },
  {
   "cell_type": "markdown",
   "metadata": {},
   "source": [
    "## Importar módulos\n",
    "En Python las dependencias externas suelen llamarse módulos, para importarlos usaremos `import moduleName`.\n",
    "\n",
    "Si estás interesado en conocer más sobre Python o y módulos adicionales puede que necesites instalarlos, para ello Python tiene un comando llamado `pip` para instalar librerías externas (similar a `npm` en Javascript)."
   ]
  },
  {
   "cell_type": "code",
   "metadata": {
    "scrolled": true,
    "ExecuteTime": {
     "end_time": "2024-08-25T12:36:12.185249Z",
     "start_time": "2024-08-25T12:36:12.182798Z"
    }
   },
   "source": [
    "import math\n",
    "print(math.sqrt(2))\n",
    "import random\n",
    "print(random.random())"
   ],
   "outputs": [
    {
     "name": "stdout",
     "output_type": "stream",
     "text": [
      "1.4142135623730951\n",
      "0.13802171615443037\n"
     ]
    }
   ],
   "execution_count": 19
  },
  {
   "cell_type": "markdown",
   "metadata": {},
   "source": [
    "## Errores\n",
    "Hasta ahora, todo el código que hemos ejecutado se ha ejecutado correctamente, pero cuando hacemos cosas más complejas, podemos obtener errores de ejecución. Ahora vamos a ejecutar código con errores para ver qué tipo de errores podemos encontrar y cómo se ven"
   ]
  },
  {
   "cell_type": "code",
   "metadata": {
    "ExecuteTime": {
     "end_time": "2024-08-25T12:36:12.312498Z",
     "start_time": "2024-08-25T12:36:12.236384Z"
    }
   },
   "source": [
    "# Name error\n",
    "# Este error normalmente está causado por fallos en la sintaxis\n",
    "print(var33)"
   ],
   "outputs": [
    {
     "ename": "NameError",
     "evalue": "name 'var33' is not defined",
     "output_type": "error",
     "traceback": [
      "\u001B[0;31m---------------------------------------------------------------------------\u001B[0m",
      "\u001B[0;31mNameError\u001B[0m                                 Traceback (most recent call last)",
      "Cell \u001B[0;32mIn[20], line 3\u001B[0m\n\u001B[1;32m      1\u001B[0m \u001B[38;5;66;03m# Name error\u001B[39;00m\n\u001B[1;32m      2\u001B[0m \u001B[38;5;66;03m# Este error normalmente está causado por fallos en la sintaxis\u001B[39;00m\n\u001B[0;32m----> 3\u001B[0m \u001B[38;5;28mprint\u001B[39m(\u001B[43mvar33\u001B[49m)\n",
      "\u001B[0;31mNameError\u001B[0m: name 'var33' is not defined"
     ]
    }
   ],
   "execution_count": 20
  },
  {
   "cell_type": "code",
   "metadata": {
    "scrolled": true,
    "ExecuteTime": {
     "end_time": "2024-08-25T12:36:17.959088Z",
     "start_time": "2024-08-25T12:36:17.945580Z"
    }
   },
   "source": [
    "# Syntax error\n",
    "# Normalemente relacionado con operaciones no validas entre variables de distintos tipos\n",
    "print(\"hello \" + 3)"
   ],
   "outputs": [
    {
     "ename": "TypeError",
     "evalue": "can only concatenate str (not \"int\") to str",
     "output_type": "error",
     "traceback": [
      "\u001B[0;31m---------------------------------------------------------------------------\u001B[0m",
      "\u001B[0;31mTypeError\u001B[0m                                 Traceback (most recent call last)",
      "Cell \u001B[0;32mIn[21], line 3\u001B[0m\n\u001B[1;32m      1\u001B[0m \u001B[38;5;66;03m# Syntax error\u001B[39;00m\n\u001B[1;32m      2\u001B[0m \u001B[38;5;66;03m# Normalemente relacionado con operaciones no validas entre variables de distintos tipos\u001B[39;00m\n\u001B[0;32m----> 3\u001B[0m \u001B[38;5;28mprint\u001B[39m(\u001B[38;5;124;43m\"\u001B[39;49m\u001B[38;5;124;43mhello \u001B[39;49m\u001B[38;5;124;43m\"\u001B[39;49m\u001B[43m \u001B[49m\u001B[38;5;241;43m+\u001B[39;49m\u001B[43m \u001B[49m\u001B[38;5;241;43m3\u001B[39;49m)\n",
      "\u001B[0;31mTypeError\u001B[0m: can only concatenate str (not \"int\") to str"
     ]
    }
   ],
   "execution_count": 21
  },
  {
   "cell_type": "code",
   "metadata": {
    "ExecuteTime": {
     "end_time": "2024-08-25T12:36:19.222710Z",
     "start_time": "2024-08-25T12:36:19.214133Z"
    }
   },
   "source": [
    "# ZeroDivisionError\n",
    "print(1 / 0)"
   ],
   "outputs": [
    {
     "ename": "ZeroDivisionError",
     "evalue": "division by zero",
     "output_type": "error",
     "traceback": [
      "\u001B[0;31m---------------------------------------------------------------------------\u001B[0m",
      "\u001B[0;31mZeroDivisionError\u001B[0m                         Traceback (most recent call last)",
      "Cell \u001B[0;32mIn[22], line 2\u001B[0m\n\u001B[1;32m      1\u001B[0m \u001B[38;5;66;03m# ZeroDivisionError\u001B[39;00m\n\u001B[0;32m----> 2\u001B[0m \u001B[38;5;28mprint\u001B[39m(\u001B[38;5;241;43m1\u001B[39;49m\u001B[43m \u001B[49m\u001B[38;5;241;43m/\u001B[39;49m\u001B[43m \u001B[49m\u001B[38;5;241;43m0\u001B[39;49m)\n",
      "\u001B[0;31mZeroDivisionError\u001B[0m: division by zero"
     ]
    }
   ],
   "execution_count": 22
  },
  {
   "cell_type": "code",
   "metadata": {
    "ExecuteTime": {
     "end_time": "2024-08-25T12:36:20.190839Z",
     "start_time": "2024-08-25T12:36:20.183039Z"
    }
   },
   "source": [
    "# IndexError\n",
    "# \n",
    "# Esto ocurre cuando intentamos acceder a un índice fuera de límites o a un índice indefinido\n",
    "a = [1, 2]\n",
    "print(a[4])"
   ],
   "outputs": [
    {
     "ename": "IndexError",
     "evalue": "list index out of range",
     "output_type": "error",
     "traceback": [
      "\u001B[0;31m---------------------------------------------------------------------------\u001B[0m",
      "\u001B[0;31mIndexError\u001B[0m                                Traceback (most recent call last)",
      "Cell \u001B[0;32mIn[23], line 5\u001B[0m\n\u001B[1;32m      1\u001B[0m \u001B[38;5;66;03m# IndexError\u001B[39;00m\n\u001B[1;32m      2\u001B[0m \u001B[38;5;66;03m# \u001B[39;00m\n\u001B[1;32m      3\u001B[0m \u001B[38;5;66;03m# Esto ocurre cuando intentamos acceder a un índice fuera de límites o a un índice indefinido\u001B[39;00m\n\u001B[1;32m      4\u001B[0m a \u001B[38;5;241m=\u001B[39m [\u001B[38;5;241m1\u001B[39m, \u001B[38;5;241m2\u001B[39m]\n\u001B[0;32m----> 5\u001B[0m \u001B[38;5;28mprint\u001B[39m(\u001B[43ma\u001B[49m\u001B[43m[\u001B[49m\u001B[38;5;241;43m4\u001B[39;49m\u001B[43m]\u001B[49m)\n",
      "\u001B[0;31mIndexError\u001B[0m: list index out of range"
     ]
    }
   ],
   "execution_count": 23
  },
  {
   "cell_type": "markdown",
   "metadata": {},
   "source": [
    "## Problemas\n",
    "### Problema 1\n",
    "Diseña un método para calcular la distancia coseno entre dos listas de floats ``a`` y ``b``. La distancia coseno o similitud coseno es una medida del ángulo entre dos vectores https://en.wikipedia.org/wiki/Cosine_similarity.x\n",
    "\n",
    "$D =1-\\cos(\\theta) = 1-{\\mathbf{A} \\cdot \\mathbf{B} \\over \\|\\mathbf{A}\\| \\|\\mathbf{B}\\|} = 1-\\frac{ \\sum\\limits_{i=1}^{n}{A_i  B_i} }{ \\sqrt{\\sum\\limits_{i=1}^{n}{A_i^2}}  \\sqrt{\\sum\\limits_{i=1}^{n}{B_i^2}} } $\n",
    "\n",
    "Para comprobar su solución puede utilizar las siguientes pruebas:\n",
    " - ``cosine_distance([1, 0, -1], [1, 0, -1]) == 0.0``\n",
    " - ``cosine_distance([1, 0, -1], [-1, 0, 1]) == 2.0``\n",
    " - ``cosine_distance([1, 0, -1], [0, 1, 0]) == 1.0``\n",
    " - ``cosine_distance([1, 2, 3], [3, 2, 1]) == 0.2857``"
   ]
  },
  {
   "cell_type": "code",
   "metadata": {
    "ExecuteTime": {
     "end_time": "2024-08-25T12:36:24.840153Z",
     "start_time": "2024-08-25T12:36:24.838157Z"
    }
   },
   "source": [
    "# Utiliza esta celda para escribir tu propio código de la función\n",
    "def cos_distance( a, b ):\n",
    "    return"
   ],
   "outputs": [],
   "execution_count": 24
  },
  {
   "cell_type": "code",
   "metadata": {
    "ExecuteTime": {
     "end_time": "2024-08-25T12:36:24.865723Z",
     "start_time": "2024-08-25T12:36:24.860425Z"
    }
   },
   "source": [
    "# Pruebas\n",
    "print(cos_distance([1,2,3], [3,2,1]))\n",
    "print( \"Obtained: \",cos_distance([1,0,-1], [ 1,0,-1]), \", Expected: \", 0)\n",
    "print( \"Obtained: \",cos_distance([1,0,-1], [-1,0, 1]), \", Expected: \", 2)\n",
    "print( \"Obtained: \",cos_distance([1,0,-1], [ 0,1, 0]), \", Expected: \", 1)\n"
   ],
   "outputs": [
    {
     "name": "stdout",
     "output_type": "stream",
     "text": [
      "None\n",
      "Obtained:  None , Expected:  0\n",
      "Obtained:  None , Expected:  2\n",
      "Obtained:  None , Expected:  1\n"
     ]
    }
   ],
   "execution_count": 25
  },
  {
   "cell_type": "markdown",
   "metadata": {},
   "source": [
    "### Problema 2\n",
    "Diseñar un método que dada una lista de listas (una matriz) de números, devuelva la posición del valor máximo en una tupla. Por ejemplo, dada la siguiente matriz:\n",
    "\n",
    "```\n",
    "matrix = [\n",
    "    [7, 5, 3],\n",
    "    [2, 4, 9],\n",
    "    [1, 6, 8]\n",
    "]\n",
    "```\n",
    "\n",
    "El método debe devolver la tupla ``(1, 2)``."
   ]
  },
  {
   "cell_type": "code",
   "metadata": {
    "ExecuteTime": {
     "end_time": "2024-08-25T12:36:24.909230Z",
     "start_time": "2024-08-25T12:36:24.907238Z"
    }
   },
   "source": [
    "# Utiliza esta celda para escribir tu propio código de la función\n",
    "def get_maximum_position( matrix ):\n",
    "    return"
   ],
   "outputs": [],
   "execution_count": 26
  },
  {
   "cell_type": "code",
   "metadata": {
    "ExecuteTime": {
     "end_time": "2024-08-25T12:36:24.954505Z",
     "start_time": "2024-08-25T12:36:24.952113Z"
    }
   },
   "source": [
    "# Pruebas\n",
    "matrix = [[7, 5, 3], [2, 4, 9], [1, 6, 8]]\n",
    "print(get_maximum_position(matrix)) # Debe imprimir (1,2)\n",
    "\n",
    "matrix = [[1,2,3],[4,5,6],[7,8,9]]\n",
    "print(get_maximum_position(matrix)) # Debe imprimir (2,2)"
   ],
   "outputs": [
    {
     "name": "stdout",
     "output_type": "stream",
     "text": [
      "None\n",
      "None\n"
     ]
    }
   ],
   "execution_count": 27
  },
  {
   "metadata": {},
   "cell_type": "markdown",
   "source": "# FINAL"
  },
  {
   "metadata": {
    "ExecuteTime": {
     "end_time": "2024-08-25T12:36:25.002389Z",
     "start_time": "2024-08-25T12:36:25.000931Z"
    }
   },
   "cell_type": "code",
   "source": "",
   "outputs": [],
   "execution_count": null
  }
 ],
 "metadata": {
  "celltoolbar": "Raw Cell Format",
  "kernelspec": {
   "display_name": "Python 3.9.7 64-bit",
   "language": "python",
   "name": "python3"
  },
  "language_info": {
   "codemirror_mode": {
    "name": "ipython",
    "version": 3
   },
   "file_extension": ".py",
   "mimetype": "text/x-python",
   "name": "python",
   "nbconvert_exporter": "python",
   "pygments_lexer": "ipython3",
   "version": "3.10.6"
  },
  "vscode": {
   "interpreter": {
    "hash": "c0de1fe606f85d3f2aa9a903f2b0bf89b43d937b91ee737bd06cf0188ff610aa"
   }
  }
 },
 "nbformat": 4,
 "nbformat_minor": 2
}
